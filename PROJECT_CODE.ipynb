{
  "nbformat": 4,
  "nbformat_minor": 0,
  "metadata": {
    "colab": {
      "provenance": [],
      "gpuType": "T4"
    },
    "kernelspec": {
      "name": "python3",
      "display_name": "Python 3"
    },
    "language_info": {
      "name": "python"
    },
    "accelerator": "GPU"
  },
  "cells": [
    {
      "cell_type": "markdown",
      "source": [
        "**Install Mido Module**"
      ],
      "metadata": {
        "id": "bGtDdw8IGTl3"
      }
    },
    {
      "cell_type": "code",
      "source": [
        "!pip install mido"
      ],
      "metadata": {
        "colab": {
          "base_uri": "https://localhost:8080/"
        },
        "id": "xZQEqIj9-v9q",
        "outputId": "7e386d45-e1fd-4b07-f5fe-1427ad4be23b"
      },
      "execution_count": 2,
      "outputs": [
        {
          "output_type": "stream",
          "name": "stdout",
          "text": [
            "Collecting mido\n",
            "  Downloading mido-1.3.2-py3-none-any.whl.metadata (6.4 kB)\n",
            "Collecting packaging~=23.1 (from mido)\n",
            "  Downloading packaging-23.2-py3-none-any.whl.metadata (3.2 kB)\n",
            "Downloading mido-1.3.2-py3-none-any.whl (54 kB)\n",
            "\u001b[2K   \u001b[90m━━━━━━━━━━━━━━━━━━━━━━━━━━━━━━━━━━━━━━━━\u001b[0m \u001b[32m54.6/54.6 kB\u001b[0m \u001b[31m3.6 MB/s\u001b[0m eta \u001b[36m0:00:00\u001b[0m\n",
            "\u001b[?25hDownloading packaging-23.2-py3-none-any.whl (53 kB)\n",
            "\u001b[2K   \u001b[90m━━━━━━━━━━━━━━━━━━━━━━━━━━━━━━━━━━━━━━━━\u001b[0m \u001b[32m53.0/53.0 kB\u001b[0m \u001b[31m3.3 MB/s\u001b[0m eta \u001b[36m0:00:00\u001b[0m\n",
            "\u001b[?25hInstalling collected packages: packaging, mido\n",
            "  Attempting uninstall: packaging\n",
            "    Found existing installation: packaging 24.1\n",
            "    Uninstalling packaging-24.1:\n",
            "      Successfully uninstalled packaging-24.1\n",
            "Successfully installed mido-1.3.2 packaging-23.2\n"
          ]
        }
      ]
    },
    {
      "cell_type": "markdown",
      "source": [
        "**Import Libraries**"
      ],
      "metadata": {
        "id": "FLlysHtTGaHM"
      }
    },
    {
      "cell_type": "code",
      "execution_count": 23,
      "metadata": {
        "id": "X8sQaSh_-eIH"
      },
      "outputs": [],
      "source": [
        "import os\n",
        "import glob\n",
        "from mido import MidiFile\n",
        "import numpy as np\n",
        "import pandas as pd\n",
        "import matplotlib.pyplot as plt\n",
        "import warnings\n",
        "warnings.filterwarnings('ignore')\n",
        "from sklearn.preprocessing import OneHotEncoder\n",
        "from keras.models import Sequential\n",
        "from keras.layers import LSTM, Dense, Dropout\n",
        "from sklearn.preprocessing import OneHotEncoder\n",
        "from keras.callbacks import ModelCheckpoint, EarlyStopping\n",
        "from scipy.sparse import issparse\n",
        "from keras.models import load_model\n",
        "from mido import MidiFile, MidiTrack, Message"
      ]
    },
    {
      "cell_type": "markdown",
      "source": [
        "**Upload File**"
      ],
      "metadata": {
        "id": "TVyWJOf_IStt"
      }
    },
    {
      "cell_type": "code",
      "source": [
        "from google.colab import files\n",
        "uploaded = files.upload()"
      ],
      "metadata": {
        "colab": {
          "base_uri": "https://localhost:8080/",
          "height": 74
        },
        "id": "KNgVfzbJ-qYp",
        "outputId": "c64783e0-a185-4502-f282-4cbdf089fdab"
      },
      "execution_count": 4,
      "outputs": [
        {
          "output_type": "display_data",
          "data": {
            "text/plain": [
              "<IPython.core.display.HTML object>"
            ],
            "text/html": [
              "\n",
              "     <input type=\"file\" id=\"files-633457e1-cdf9-4c42-b917-5975939ba3de\" name=\"files[]\" multiple disabled\n",
              "        style=\"border:none\" />\n",
              "     <output id=\"result-633457e1-cdf9-4c42-b917-5975939ba3de\">\n",
              "      Upload widget is only available when the cell has been executed in the\n",
              "      current browser session. Please rerun this cell to enable.\n",
              "      </output>\n",
              "      <script>// Copyright 2017 Google LLC\n",
              "//\n",
              "// Licensed under the Apache License, Version 2.0 (the \"License\");\n",
              "// you may not use this file except in compliance with the License.\n",
              "// You may obtain a copy of the License at\n",
              "//\n",
              "//      http://www.apache.org/licenses/LICENSE-2.0\n",
              "//\n",
              "// Unless required by applicable law or agreed to in writing, software\n",
              "// distributed under the License is distributed on an \"AS IS\" BASIS,\n",
              "// WITHOUT WARRANTIES OR CONDITIONS OF ANY KIND, either express or implied.\n",
              "// See the License for the specific language governing permissions and\n",
              "// limitations under the License.\n",
              "\n",
              "/**\n",
              " * @fileoverview Helpers for google.colab Python module.\n",
              " */\n",
              "(function(scope) {\n",
              "function span(text, styleAttributes = {}) {\n",
              "  const element = document.createElement('span');\n",
              "  element.textContent = text;\n",
              "  for (const key of Object.keys(styleAttributes)) {\n",
              "    element.style[key] = styleAttributes[key];\n",
              "  }\n",
              "  return element;\n",
              "}\n",
              "\n",
              "// Max number of bytes which will be uploaded at a time.\n",
              "const MAX_PAYLOAD_SIZE = 100 * 1024;\n",
              "\n",
              "function _uploadFiles(inputId, outputId) {\n",
              "  const steps = uploadFilesStep(inputId, outputId);\n",
              "  const outputElement = document.getElementById(outputId);\n",
              "  // Cache steps on the outputElement to make it available for the next call\n",
              "  // to uploadFilesContinue from Python.\n",
              "  outputElement.steps = steps;\n",
              "\n",
              "  return _uploadFilesContinue(outputId);\n",
              "}\n",
              "\n",
              "// This is roughly an async generator (not supported in the browser yet),\n",
              "// where there are multiple asynchronous steps and the Python side is going\n",
              "// to poll for completion of each step.\n",
              "// This uses a Promise to block the python side on completion of each step,\n",
              "// then passes the result of the previous step as the input to the next step.\n",
              "function _uploadFilesContinue(outputId) {\n",
              "  const outputElement = document.getElementById(outputId);\n",
              "  const steps = outputElement.steps;\n",
              "\n",
              "  const next = steps.next(outputElement.lastPromiseValue);\n",
              "  return Promise.resolve(next.value.promise).then((value) => {\n",
              "    // Cache the last promise value to make it available to the next\n",
              "    // step of the generator.\n",
              "    outputElement.lastPromiseValue = value;\n",
              "    return next.value.response;\n",
              "  });\n",
              "}\n",
              "\n",
              "/**\n",
              " * Generator function which is called between each async step of the upload\n",
              " * process.\n",
              " * @param {string} inputId Element ID of the input file picker element.\n",
              " * @param {string} outputId Element ID of the output display.\n",
              " * @return {!Iterable<!Object>} Iterable of next steps.\n",
              " */\n",
              "function* uploadFilesStep(inputId, outputId) {\n",
              "  const inputElement = document.getElementById(inputId);\n",
              "  inputElement.disabled = false;\n",
              "\n",
              "  const outputElement = document.getElementById(outputId);\n",
              "  outputElement.innerHTML = '';\n",
              "\n",
              "  const pickedPromise = new Promise((resolve) => {\n",
              "    inputElement.addEventListener('change', (e) => {\n",
              "      resolve(e.target.files);\n",
              "    });\n",
              "  });\n",
              "\n",
              "  const cancel = document.createElement('button');\n",
              "  inputElement.parentElement.appendChild(cancel);\n",
              "  cancel.textContent = 'Cancel upload';\n",
              "  const cancelPromise = new Promise((resolve) => {\n",
              "    cancel.onclick = () => {\n",
              "      resolve(null);\n",
              "    };\n",
              "  });\n",
              "\n",
              "  // Wait for the user to pick the files.\n",
              "  const files = yield {\n",
              "    promise: Promise.race([pickedPromise, cancelPromise]),\n",
              "    response: {\n",
              "      action: 'starting',\n",
              "    }\n",
              "  };\n",
              "\n",
              "  cancel.remove();\n",
              "\n",
              "  // Disable the input element since further picks are not allowed.\n",
              "  inputElement.disabled = true;\n",
              "\n",
              "  if (!files) {\n",
              "    return {\n",
              "      response: {\n",
              "        action: 'complete',\n",
              "      }\n",
              "    };\n",
              "  }\n",
              "\n",
              "  for (const file of files) {\n",
              "    const li = document.createElement('li');\n",
              "    li.append(span(file.name, {fontWeight: 'bold'}));\n",
              "    li.append(span(\n",
              "        `(${file.type || 'n/a'}) - ${file.size} bytes, ` +\n",
              "        `last modified: ${\n",
              "            file.lastModifiedDate ? file.lastModifiedDate.toLocaleDateString() :\n",
              "                                    'n/a'} - `));\n",
              "    const percent = span('0% done');\n",
              "    li.appendChild(percent);\n",
              "\n",
              "    outputElement.appendChild(li);\n",
              "\n",
              "    const fileDataPromise = new Promise((resolve) => {\n",
              "      const reader = new FileReader();\n",
              "      reader.onload = (e) => {\n",
              "        resolve(e.target.result);\n",
              "      };\n",
              "      reader.readAsArrayBuffer(file);\n",
              "    });\n",
              "    // Wait for the data to be ready.\n",
              "    let fileData = yield {\n",
              "      promise: fileDataPromise,\n",
              "      response: {\n",
              "        action: 'continue',\n",
              "      }\n",
              "    };\n",
              "\n",
              "    // Use a chunked sending to avoid message size limits. See b/62115660.\n",
              "    let position = 0;\n",
              "    do {\n",
              "      const length = Math.min(fileData.byteLength - position, MAX_PAYLOAD_SIZE);\n",
              "      const chunk = new Uint8Array(fileData, position, length);\n",
              "      position += length;\n",
              "\n",
              "      const base64 = btoa(String.fromCharCode.apply(null, chunk));\n",
              "      yield {\n",
              "        response: {\n",
              "          action: 'append',\n",
              "          file: file.name,\n",
              "          data: base64,\n",
              "        },\n",
              "      };\n",
              "\n",
              "      let percentDone = fileData.byteLength === 0 ?\n",
              "          100 :\n",
              "          Math.round((position / fileData.byteLength) * 100);\n",
              "      percent.textContent = `${percentDone}% done`;\n",
              "\n",
              "    } while (position < fileData.byteLength);\n",
              "  }\n",
              "\n",
              "  // All done.\n",
              "  yield {\n",
              "    response: {\n",
              "      action: 'complete',\n",
              "    }\n",
              "  };\n",
              "}\n",
              "\n",
              "scope.google = scope.google || {};\n",
              "scope.google.colab = scope.google.colab || {};\n",
              "scope.google.colab._files = {\n",
              "  _uploadFiles,\n",
              "  _uploadFilesContinue,\n",
              "};\n",
              "})(self);\n",
              "</script> "
            ]
          },
          "metadata": {}
        },
        {
          "output_type": "stream",
          "name": "stdout",
          "text": [
            "Saving albeniz.zip to albeniz.zip\n"
          ]
        }
      ]
    },
    {
      "cell_type": "markdown",
      "source": [
        "**Unzip the File**"
      ],
      "metadata": {
        "id": "kS2XCvjlIWzZ"
      }
    },
    {
      "cell_type": "code",
      "source": [
        "import zipfile\n",
        "\n",
        "# Path to the uploaded ZIP file (adjust the filename accordingly)\n",
        "zip_file_path = '/content/albeniz.zip'\n",
        "\n",
        "# Create a directory to extract the contents\n",
        "extract_dir = 'midi_files'\n",
        "os.makedirs(extract_dir, exist_ok=True)\n",
        "\n",
        "# Unzip the file\n",
        "with zipfile.ZipFile(zip_file_path, 'r') as zip_ref:\n",
        "    zip_ref.extractall(extract_dir)"
      ],
      "metadata": {
        "id": "mBVs2n7x_JJO"
      },
      "execution_count": 5,
      "outputs": []
    },
    {
      "cell_type": "markdown",
      "source": [
        "**Finding Midi Files in Main Folder**"
      ],
      "metadata": {
        "id": "LF6jJl6EIfFk"
      }
    },
    {
      "cell_type": "code",
      "source": [
        "# Path to the main folder containing subfolders with MIDI files\n",
        "main_folder_path = extract_dir\n",
        "\n",
        "# Find all .mid files in subdirectories of the main folder\n",
        "midi_files = glob.glob(os.path.join(main_folder_path, '**', '*.mid'), recursive=True)\n",
        "\n",
        "# Check if any files were found\n",
        "if not midi_files:\n",
        "    print(\"No MIDI files found in the directory.\")\n",
        "else:\n",
        "    print(f\"Found {len(midi_files)} MIDI files.\")"
      ],
      "metadata": {
        "colab": {
          "base_uri": "https://localhost:8080/"
        },
        "id": "x2kc6gi-_JGK",
        "outputId": "3e6e16ab-98a0-4402-fb00-c97da2f22fc8"
      },
      "execution_count": 6,
      "outputs": [
        {
          "output_type": "stream",
          "name": "stdout",
          "text": [
            "Found 14 MIDI files.\n"
          ]
        }
      ]
    },
    {
      "cell_type": "markdown",
      "source": [
        "**Loading File Path**"
      ],
      "metadata": {
        "id": "m3TTSr_xIl0B"
      }
    },
    {
      "cell_type": "code",
      "source": [
        "# Load each MIDI file\n",
        "for file_path in midi_files:\n",
        "        # Load the MIDI file\n",
        "        midi = MidiFile(file_path)\n",
        "        print(f\"Loaded {file_path}\")"
      ],
      "metadata": {
        "colab": {
          "base_uri": "https://localhost:8080/"
        },
        "id": "OZuZzlR5_JCw",
        "outputId": "d4fc2af3-db56-4d7d-9fd7-e185988a1ac3"
      },
      "execution_count": 7,
      "outputs": [
        {
          "output_type": "stream",
          "name": "stdout",
          "text": [
            "Loaded midi_files/alb_se2.mid\n",
            "Loaded midi_files/alb_esp3.mid\n",
            "Loaded midi_files/alb_se5.mid\n",
            "Loaded midi_files/alb_esp2.mid\n",
            "Loaded midi_files/alb_se1.mid\n",
            "Loaded midi_files/alb_se4.mid\n",
            "Loaded midi_files/alb_se3.mid\n",
            "Loaded midi_files/alb_esp4.mid\n",
            "Loaded midi_files/alb_se6.mid\n",
            "Loaded midi_files/alb_esp1.mid\n",
            "Loaded midi_files/alb_se8.mid\n",
            "Loaded midi_files/alb_esp6.mid\n",
            "Loaded midi_files/alb_esp5.mid\n",
            "Loaded midi_files/alb_se7.mid\n"
          ]
        }
      ]
    },
    {
      "cell_type": "markdown",
      "source": [
        "**Finding Type, Note, Velocity & Time of Midi Files**"
      ],
      "metadata": {
        "id": "QvFQ7pRZIrL8"
      }
    },
    {
      "cell_type": "code",
      "source": [
        "note_data = []  # List to store extracted note information\n",
        "\n",
        "for file_path in midi_files:\n",
        "    try:\n",
        "        midi = MidiFile(file_path)\n",
        "        for i, track in enumerate(midi.tracks):\n",
        "            for msg in track:\n",
        "                if msg.type in ['note_on', 'note_off']:\n",
        "                    note_data.append({\n",
        "                        'file': file_path,\n",
        "                        'track': i,\n",
        "                        'type': msg.type,\n",
        "                        'note': msg.note,\n",
        "                        'velocity': msg.velocity,\n",
        "                        'time': msg.time\n",
        "                    })\n",
        "    except Exception as e:\n",
        "        print(f\"Error loading {file_path}: {e}\")\n",
        "\n",
        "print(f\"Extracted note data from {len(midi_files)} MIDI files.\")"
      ],
      "metadata": {
        "colab": {
          "base_uri": "https://localhost:8080/"
        },
        "id": "BreIUyeB_I_t",
        "outputId": "ff4030e0-9f0d-4592-ef5d-d3b17cd5f91c"
      },
      "execution_count": 8,
      "outputs": [
        {
          "output_type": "stream",
          "name": "stdout",
          "text": [
            "Extracted note data from 14 MIDI files.\n"
          ]
        }
      ]
    },
    {
      "cell_type": "markdown",
      "source": [
        "**Normalization & Quantization of Values**"
      ],
      "metadata": {
        "id": "JaWJNWFfI2Mz"
      }
    },
    {
      "cell_type": "code",
      "source": [
        "# Example quantization step size\n",
        "quantization_step = 0.01\n",
        "\n",
        "# Normalize and quantize note data\n",
        "for event in note_data:\n",
        "    event['normalized_note'] = event['note'] / 127  # Normalizing note value\n",
        "    event['normalized_velocity'] = event['velocity'] / 127  # Normalizing velocity\n",
        "    event['quantized_time'] = round(event['time'] * quantization_step)  # Quantizing time\n",
        "\n",
        "print(\"Normalization and quantization complete.\")"
      ],
      "metadata": {
        "colab": {
          "base_uri": "https://localhost:8080/"
        },
        "id": "2hDkGo0B_I8V",
        "outputId": "98dbafb3-937d-42dd-aa85-260e224ba4d4"
      },
      "execution_count": 9,
      "outputs": [
        {
          "output_type": "stream",
          "name": "stdout",
          "text": [
            "Normalization and quantization complete.\n"
          ]
        }
      ]
    },
    {
      "cell_type": "markdown",
      "source": [
        "**Creating Input & Output Pairs of Sequence**"
      ],
      "metadata": {
        "id": "1Tz9q90WI9y0"
      }
    },
    {
      "cell_type": "code",
      "source": [
        "sequence_length = 50\n",
        "input_sequences = []\n",
        "output_notes = []\n",
        "\n",
        "for i in range(len(note_data) - sequence_length):\n",
        "    input_seq = note_data[i:i + sequence_length]\n",
        "    output_note = note_data[i + sequence_length]['note']\n",
        "\n",
        "    input_sequences.append(input_seq)\n",
        "    output_notes.append(output_note)\n",
        "\n",
        "print(f\"Created {len(input_sequences)} input-output pairs.\")"
      ],
      "metadata": {
        "colab": {
          "base_uri": "https://localhost:8080/"
        },
        "id": "cJ5gKy7p_hVB",
        "outputId": "715cc399-34d2-43ab-843b-2c2b16c93b67"
      },
      "execution_count": 10,
      "outputs": [
        {
          "output_type": "stream",
          "name": "stdout",
          "text": [
            "Created 51018 input-output pairs.\n"
          ]
        }
      ]
    },
    {
      "cell_type": "markdown",
      "source": [
        "**Encoding**"
      ],
      "metadata": {
        "id": "5fhFPh3VKlmR"
      }
    },
    {
      "cell_type": "code",
      "source": [
        "note_encoder = OneHotEncoder()\n",
        "\n",
        "input_notes = [event['note'] for sequence in input_sequences for event in sequence]\n",
        "input_notes_encoded = note_encoder.fit_transform(np.array(input_notes).reshape(-1, 1))\n",
        "\n",
        "print(\"Encoding complete.\")"
      ],
      "metadata": {
        "colab": {
          "base_uri": "https://localhost:8080/"
        },
        "id": "aJTVNZQh_jMR",
        "outputId": "57dd3046-706d-44e2-d2a8-277a9e31a2f1"
      },
      "execution_count": 27,
      "outputs": [
        {
          "output_type": "stream",
          "name": "stdout",
          "text": [
            "Encoding complete.\n"
          ]
        }
      ]
    },
    {
      "cell_type": "markdown",
      "source": [
        "**Model Setup**"
      ],
      "metadata": {
        "id": "nBrfoobdKs6Y"
      }
    },
    {
      "cell_type": "code",
      "source": [
        "# Parameters\n",
        "sequence_length = 50  # Length of input sequences\n",
        "n_notes = 128  # Number of possible note values (MIDI range)\n",
        "n_features = 1  # Number of features (e.g., note value)\n",
        "\n",
        "# Reshape input for LSTM\n",
        "X = np.array([np.array([note['note'] for note in seq]) for seq in input_sequences])\n",
        "X = X.reshape((X.shape[0], sequence_length, n_features))\n",
        "\n",
        "# One-hot encode the output notes\n",
        "note_encoder = OneHotEncoder(sparse_output=False, categories=[range(n_notes)])\n",
        "y = note_encoder.fit_transform(np.array(output_notes).reshape(-1, 1))\n",
        "\n",
        "# Build the LSTM model\n",
        "model = Sequential()\n",
        "model.add(LSTM(256, input_shape=(sequence_length, n_features), return_sequences=True))\n",
        "model.add(Dropout(0.3))\n",
        "model.add(LSTM(256, return_sequences=False))\n",
        "model.add(Dropout(0.3))\n",
        "model.add(Dense(n_notes, activation='softmax'))\n",
        "\n",
        "model.compile(loss='categorical_crossentropy', optimizer='adam')\n",
        "\n",
        "# Summary of the model\n",
        "model.summary()"
      ],
      "metadata": {
        "colab": {
          "base_uri": "https://localhost:8080/",
          "height": 289
        },
        "id": "7brtDc82_jEf",
        "outputId": "b9f6fde3-4a00-4410-e003-327672f85f6f"
      },
      "execution_count": 28,
      "outputs": [
        {
          "output_type": "display_data",
          "data": {
            "text/plain": [
              "\u001b[1mModel: \"sequential_1\"\u001b[0m\n"
            ],
            "text/html": [
              "<pre style=\"white-space:pre;overflow-x:auto;line-height:normal;font-family:Menlo,'DejaVu Sans Mono',consolas,'Courier New',monospace\"><span style=\"font-weight: bold\">Model: \"sequential_1\"</span>\n",
              "</pre>\n"
            ]
          },
          "metadata": {}
        },
        {
          "output_type": "display_data",
          "data": {
            "text/plain": [
              "┏━━━━━━━━━━━━━━━━━━━━━━━━━━━━━━━━━━━━━━┳━━━━━━━━━━━━━━━━━━━━━━━━━━━━━┳━━━━━━━━━━━━━━━━━┓\n",
              "┃\u001b[1m \u001b[0m\u001b[1mLayer (type)                        \u001b[0m\u001b[1m \u001b[0m┃\u001b[1m \u001b[0m\u001b[1mOutput Shape               \u001b[0m\u001b[1m \u001b[0m┃\u001b[1m \u001b[0m\u001b[1m        Param #\u001b[0m\u001b[1m \u001b[0m┃\n",
              "┡━━━━━━━━━━━━━━━━━━━━━━━━━━━━━━━━━━━━━━╇━━━━━━━━━━━━━━━━━━━━━━━━━━━━━╇━━━━━━━━━━━━━━━━━┩\n",
              "│ lstm_2 (\u001b[38;5;33mLSTM\u001b[0m)                        │ (\u001b[38;5;45mNone\u001b[0m, \u001b[38;5;34m50\u001b[0m, \u001b[38;5;34m256\u001b[0m)             │         \u001b[38;5;34m264,192\u001b[0m │\n",
              "├──────────────────────────────────────┼─────────────────────────────┼─────────────────┤\n",
              "│ dropout_2 (\u001b[38;5;33mDropout\u001b[0m)                  │ (\u001b[38;5;45mNone\u001b[0m, \u001b[38;5;34m50\u001b[0m, \u001b[38;5;34m256\u001b[0m)             │               \u001b[38;5;34m0\u001b[0m │\n",
              "├──────────────────────────────────────┼─────────────────────────────┼─────────────────┤\n",
              "│ lstm_3 (\u001b[38;5;33mLSTM\u001b[0m)                        │ (\u001b[38;5;45mNone\u001b[0m, \u001b[38;5;34m256\u001b[0m)                 │         \u001b[38;5;34m525,312\u001b[0m │\n",
              "├──────────────────────────────────────┼─────────────────────────────┼─────────────────┤\n",
              "│ dropout_3 (\u001b[38;5;33mDropout\u001b[0m)                  │ (\u001b[38;5;45mNone\u001b[0m, \u001b[38;5;34m256\u001b[0m)                 │               \u001b[38;5;34m0\u001b[0m │\n",
              "├──────────────────────────────────────┼─────────────────────────────┼─────────────────┤\n",
              "│ dense_1 (\u001b[38;5;33mDense\u001b[0m)                      │ (\u001b[38;5;45mNone\u001b[0m, \u001b[38;5;34m128\u001b[0m)                 │          \u001b[38;5;34m32,896\u001b[0m │\n",
              "└──────────────────────────────────────┴─────────────────────────────┴─────────────────┘\n"
            ],
            "text/html": [
              "<pre style=\"white-space:pre;overflow-x:auto;line-height:normal;font-family:Menlo,'DejaVu Sans Mono',consolas,'Courier New',monospace\">┏━━━━━━━━━━━━━━━━━━━━━━━━━━━━━━━━━━━━━━┳━━━━━━━━━━━━━━━━━━━━━━━━━━━━━┳━━━━━━━━━━━━━━━━━┓\n",
              "┃<span style=\"font-weight: bold\"> Layer (type)                         </span>┃<span style=\"font-weight: bold\"> Output Shape                </span>┃<span style=\"font-weight: bold\">         Param # </span>┃\n",
              "┡━━━━━━━━━━━━━━━━━━━━━━━━━━━━━━━━━━━━━━╇━━━━━━━━━━━━━━━━━━━━━━━━━━━━━╇━━━━━━━━━━━━━━━━━┩\n",
              "│ lstm_2 (<span style=\"color: #0087ff; text-decoration-color: #0087ff\">LSTM</span>)                        │ (<span style=\"color: #00d7ff; text-decoration-color: #00d7ff\">None</span>, <span style=\"color: #00af00; text-decoration-color: #00af00\">50</span>, <span style=\"color: #00af00; text-decoration-color: #00af00\">256</span>)             │         <span style=\"color: #00af00; text-decoration-color: #00af00\">264,192</span> │\n",
              "├──────────────────────────────────────┼─────────────────────────────┼─────────────────┤\n",
              "│ dropout_2 (<span style=\"color: #0087ff; text-decoration-color: #0087ff\">Dropout</span>)                  │ (<span style=\"color: #00d7ff; text-decoration-color: #00d7ff\">None</span>, <span style=\"color: #00af00; text-decoration-color: #00af00\">50</span>, <span style=\"color: #00af00; text-decoration-color: #00af00\">256</span>)             │               <span style=\"color: #00af00; text-decoration-color: #00af00\">0</span> │\n",
              "├──────────────────────────────────────┼─────────────────────────────┼─────────────────┤\n",
              "│ lstm_3 (<span style=\"color: #0087ff; text-decoration-color: #0087ff\">LSTM</span>)                        │ (<span style=\"color: #00d7ff; text-decoration-color: #00d7ff\">None</span>, <span style=\"color: #00af00; text-decoration-color: #00af00\">256</span>)                 │         <span style=\"color: #00af00; text-decoration-color: #00af00\">525,312</span> │\n",
              "├──────────────────────────────────────┼─────────────────────────────┼─────────────────┤\n",
              "│ dropout_3 (<span style=\"color: #0087ff; text-decoration-color: #0087ff\">Dropout</span>)                  │ (<span style=\"color: #00d7ff; text-decoration-color: #00d7ff\">None</span>, <span style=\"color: #00af00; text-decoration-color: #00af00\">256</span>)                 │               <span style=\"color: #00af00; text-decoration-color: #00af00\">0</span> │\n",
              "├──────────────────────────────────────┼─────────────────────────────┼─────────────────┤\n",
              "│ dense_1 (<span style=\"color: #0087ff; text-decoration-color: #0087ff\">Dense</span>)                      │ (<span style=\"color: #00d7ff; text-decoration-color: #00d7ff\">None</span>, <span style=\"color: #00af00; text-decoration-color: #00af00\">128</span>)                 │          <span style=\"color: #00af00; text-decoration-color: #00af00\">32,896</span> │\n",
              "└──────────────────────────────────────┴─────────────────────────────┴─────────────────┘\n",
              "</pre>\n"
            ]
          },
          "metadata": {}
        },
        {
          "output_type": "display_data",
          "data": {
            "text/plain": [
              "\u001b[1m Total params: \u001b[0m\u001b[38;5;34m822,400\u001b[0m (3.14 MB)\n"
            ],
            "text/html": [
              "<pre style=\"white-space:pre;overflow-x:auto;line-height:normal;font-family:Menlo,'DejaVu Sans Mono',consolas,'Courier New',monospace\"><span style=\"font-weight: bold\"> Total params: </span><span style=\"color: #00af00; text-decoration-color: #00af00\">822,400</span> (3.14 MB)\n",
              "</pre>\n"
            ]
          },
          "metadata": {}
        },
        {
          "output_type": "display_data",
          "data": {
            "text/plain": [
              "\u001b[1m Trainable params: \u001b[0m\u001b[38;5;34m822,400\u001b[0m (3.14 MB)\n"
            ],
            "text/html": [
              "<pre style=\"white-space:pre;overflow-x:auto;line-height:normal;font-family:Menlo,'DejaVu Sans Mono',consolas,'Courier New',monospace\"><span style=\"font-weight: bold\"> Trainable params: </span><span style=\"color: #00af00; text-decoration-color: #00af00\">822,400</span> (3.14 MB)\n",
              "</pre>\n"
            ]
          },
          "metadata": {}
        },
        {
          "output_type": "display_data",
          "data": {
            "text/plain": [
              "\u001b[1m Non-trainable params: \u001b[0m\u001b[38;5;34m0\u001b[0m (0.00 B)\n"
            ],
            "text/html": [
              "<pre style=\"white-space:pre;overflow-x:auto;line-height:normal;font-family:Menlo,'DejaVu Sans Mono',consolas,'Courier New',monospace\"><span style=\"font-weight: bold\"> Non-trainable params: </span><span style=\"color: #00af00; text-decoration-color: #00af00\">0</span> (0.00 B)\n",
              "</pre>\n"
            ]
          },
          "metadata": {}
        }
      ]
    },
    {
      "cell_type": "markdown",
      "source": [
        "**Training Model**"
      ],
      "metadata": {
        "id": "pfFc4Se_K06C"
      }
    },
    {
      "cell_type": "code",
      "source": [
        "# Define file path to save the best model\n",
        "model_file_path = 'Model.keras'\n",
        "\n",
        "# Define the ModelCheckpoint callback\n",
        "checkpoint = ModelCheckpoint(model_file_path, monitor='val_loss', save_best_only=True, mode='min', verbose=1)\n",
        "\n",
        "# Define the EarlyStopping callback (optional)\n",
        "early_stopping = EarlyStopping(monitor='val_loss', patience=10, mode='min', verbose=1)\n",
        "\n",
        "# Train the model\n",
        "history = model.fit(X, y, epochs=100, batch_size=64, validation_split=0.2, callbacks=[checkpoint, early_stopping])\n",
        "# Summary of the training process\n",
        "print(\"Training completed.\")"
      ],
      "metadata": {
        "colab": {
          "base_uri": "https://localhost:8080/"
        },
        "id": "_SFR4QUS_jBq",
        "outputId": "b62cfc3f-6ba4-466d-e176-dd72fff76c79"
      },
      "execution_count": 15,
      "outputs": [
        {
          "output_type": "stream",
          "name": "stdout",
          "text": [
            "Epoch 1/100\n",
            "\u001b[1m636/638\u001b[0m \u001b[32m━━━━━━━━━━━━━━━━━━━\u001b[0m\u001b[37m━\u001b[0m \u001b[1m0s\u001b[0m 11ms/step - loss: 2.1686\n",
            "Epoch 1: val_loss improved from inf to 3.28102, saving model to Model.keras\n",
            "\u001b[1m638/638\u001b[0m \u001b[32m━━━━━━━━━━━━━━━━━━━━\u001b[0m\u001b[37m\u001b[0m \u001b[1m8s\u001b[0m 13ms/step - loss: 2.1686 - val_loss: 3.2810\n",
            "Epoch 2/100\n",
            "\u001b[1m638/638\u001b[0m \u001b[32m━━━━━━━━━━━━━━━━━━━━\u001b[0m\u001b[37m\u001b[0m \u001b[1m0s\u001b[0m 11ms/step - loss: 2.0978\n",
            "Epoch 2: val_loss improved from 3.28102 to 3.27610, saving model to Model.keras\n",
            "\u001b[1m638/638\u001b[0m \u001b[32m━━━━━━━━━━━━━━━━━━━━\u001b[0m\u001b[37m\u001b[0m \u001b[1m10s\u001b[0m 13ms/step - loss: 2.0978 - val_loss: 3.2761\n",
            "Epoch 3/100\n",
            "\u001b[1m634/638\u001b[0m \u001b[32m━━━━━━━━━━━━━━━━━━━\u001b[0m\u001b[37m━\u001b[0m \u001b[1m0s\u001b[0m 11ms/step - loss: 2.0393\n",
            "Epoch 3: val_loss did not improve from 3.27610\n",
            "\u001b[1m638/638\u001b[0m \u001b[32m━━━━━━━━━━━━━━━━━━━━\u001b[0m\u001b[37m\u001b[0m \u001b[1m8s\u001b[0m 12ms/step - loss: 2.0392 - val_loss: 3.3140\n",
            "Epoch 4/100\n",
            "\u001b[1m634/638\u001b[0m \u001b[32m━━━━━━━━━━━━━━━━━━━\u001b[0m\u001b[37m━\u001b[0m \u001b[1m0s\u001b[0m 12ms/step - loss: 1.9598\n",
            "Epoch 4: val_loss did not improve from 3.27610\n",
            "\u001b[1m638/638\u001b[0m \u001b[32m━━━━━━━━━━━━━━━━━━━━\u001b[0m\u001b[37m\u001b[0m \u001b[1m8s\u001b[0m 13ms/step - loss: 1.9598 - val_loss: 3.4297\n",
            "Epoch 5/100\n",
            "\u001b[1m635/638\u001b[0m \u001b[32m━━━━━━━━━━━━━━━━━━━\u001b[0m\u001b[37m━\u001b[0m \u001b[1m0s\u001b[0m 12ms/step - loss: 1.8972\n",
            "Epoch 5: val_loss did not improve from 3.27610\n",
            "\u001b[1m638/638\u001b[0m \u001b[32m━━━━━━━━━━━━━━━━━━━━\u001b[0m\u001b[37m\u001b[0m \u001b[1m10s\u001b[0m 13ms/step - loss: 1.8972 - val_loss: 3.4407\n",
            "Epoch 6/100\n",
            "\u001b[1m636/638\u001b[0m \u001b[32m━━━━━━━━━━━━━━━━━━━\u001b[0m\u001b[37m━\u001b[0m \u001b[1m0s\u001b[0m 11ms/step - loss: 1.8398\n",
            "Epoch 6: val_loss did not improve from 3.27610\n",
            "\u001b[1m638/638\u001b[0m \u001b[32m━━━━━━━━━━━━━━━━━━━━\u001b[0m\u001b[37m\u001b[0m \u001b[1m10s\u001b[0m 13ms/step - loss: 1.8398 - val_loss: 3.4291\n",
            "Epoch 7/100\n",
            "\u001b[1m638/638\u001b[0m \u001b[32m━━━━━━━━━━━━━━━━━━━━\u001b[0m\u001b[37m\u001b[0m \u001b[1m0s\u001b[0m 11ms/step - loss: 1.7952\n",
            "Epoch 7: val_loss did not improve from 3.27610\n",
            "\u001b[1m638/638\u001b[0m \u001b[32m━━━━━━━━━━━━━━━━━━━━\u001b[0m\u001b[37m\u001b[0m \u001b[1m8s\u001b[0m 13ms/step - loss: 1.7952 - val_loss: 3.4186\n",
            "Epoch 8/100\n",
            "\u001b[1m634/638\u001b[0m \u001b[32m━━━━━━━━━━━━━━━━━━━\u001b[0m\u001b[37m━\u001b[0m \u001b[1m0s\u001b[0m 12ms/step - loss: 1.7435\n",
            "Epoch 8: val_loss did not improve from 3.27610\n",
            "\u001b[1m638/638\u001b[0m \u001b[32m━━━━━━━━━━━━━━━━━━━━\u001b[0m\u001b[37m\u001b[0m \u001b[1m8s\u001b[0m 13ms/step - loss: 1.7435 - val_loss: 3.5208\n",
            "Epoch 9/100\n",
            "\u001b[1m634/638\u001b[0m \u001b[32m━━━━━━━━━━━━━━━━━━━\u001b[0m\u001b[37m━\u001b[0m \u001b[1m0s\u001b[0m 11ms/step - loss: 1.6898\n",
            "Epoch 9: val_loss did not improve from 3.27610\n",
            "\u001b[1m638/638\u001b[0m \u001b[32m━━━━━━━━━━━━━━━━━━━━\u001b[0m\u001b[37m\u001b[0m \u001b[1m8s\u001b[0m 12ms/step - loss: 1.6898 - val_loss: 3.5379\n",
            "Epoch 10/100\n",
            "\u001b[1m634/638\u001b[0m \u001b[32m━━━━━━━━━━━━━━━━━━━\u001b[0m\u001b[37m━\u001b[0m \u001b[1m0s\u001b[0m 11ms/step - loss: 1.6360\n",
            "Epoch 10: val_loss did not improve from 3.27610\n",
            "\u001b[1m638/638\u001b[0m \u001b[32m━━━━━━━━━━━━━━━━━━━━\u001b[0m\u001b[37m\u001b[0m \u001b[1m10s\u001b[0m 13ms/step - loss: 1.6361 - val_loss: 3.5856\n",
            "Epoch 11/100\n",
            "\u001b[1m638/638\u001b[0m \u001b[32m━━━━━━━━━━━━━━━━━━━━\u001b[0m\u001b[37m\u001b[0m \u001b[1m0s\u001b[0m 12ms/step - loss: 1.5986\n",
            "Epoch 11: val_loss did not improve from 3.27610\n",
            "\u001b[1m638/638\u001b[0m \u001b[32m━━━━━━━━━━━━━━━━━━━━\u001b[0m\u001b[37m\u001b[0m \u001b[1m8s\u001b[0m 13ms/step - loss: 1.5986 - val_loss: 3.5471\n",
            "Epoch 12/100\n",
            "\u001b[1m635/638\u001b[0m \u001b[32m━━━━━━━━━━━━━━━━━━━\u001b[0m\u001b[37m━\u001b[0m \u001b[1m0s\u001b[0m 12ms/step - loss: 1.5631\n",
            "Epoch 12: val_loss did not improve from 3.27610\n",
            "\u001b[1m638/638\u001b[0m \u001b[32m━━━━━━━━━━━━━━━━━━━━\u001b[0m\u001b[37m\u001b[0m \u001b[1m9s\u001b[0m 14ms/step - loss: 1.5631 - val_loss: 3.7323\n",
            "Epoch 12: early stopping\n",
            "Training completed.\n"
          ]
        }
      ]
    },
    {
      "cell_type": "markdown",
      "source": [
        "**Visualizing Model**"
      ],
      "metadata": {
        "id": "ienx7eNVK4Ul"
      }
    },
    {
      "cell_type": "code",
      "source": [
        "# Plot the training and validation loss\n",
        "plt.figure(figsize=(10, 5))\n",
        "plt.plot(history.history['loss'], label='Training Loss')\n",
        "plt.plot(history.history['val_loss'], label='Validation Loss')\n",
        "plt.title('Model Loss')\n",
        "plt.xlabel('Epochs')\n",
        "plt.ylabel('Loss')\n",
        "plt.legend()\n",
        "plt.show()\n"
      ],
      "metadata": {
        "colab": {
          "base_uri": "https://localhost:8080/",
          "height": 487
        },
        "id": "H1a7_2_UHkHV",
        "outputId": "93be9781-feb6-47cf-b2d5-8d4a6f53067d"
      },
      "execution_count": 24,
      "outputs": [
        {
          "output_type": "display_data",
          "data": {
            "text/plain": [
              "<Figure size 1000x500 with 1 Axes>"
            ],
            "image/png": "[encoded data removed]"
          },
          "metadata": {}
        }
      ]
    },
    {
      "cell_type": "markdown",
      "source": [
        "**Saving & Loading Model**"
      ],
      "metadata": {
        "id": "sOC5DjEmK9cN"
      }
    },
    {
      "cell_type": "code",
      "source": [
        "# Save the entire model to a file\n",
        "model.save('Trained_Model.keras')\n",
        "print(\"Model saved.\")"
      ],
      "metadata": {
        "colab": {
          "base_uri": "https://localhost:8080/"
        },
        "id": "CTe88OuM_i-q",
        "outputId": "76bf9c05-44f8-45ab-b372-de6dff067e37"
      },
      "execution_count": 16,
      "outputs": [
        {
          "output_type": "stream",
          "name": "stdout",
          "text": [
            "Model saved.\n"
          ]
        }
      ]
    },
    {
      "cell_type": "code",
      "source": [
        "# Load the model from the file\n",
        "model = load_model('Trained_Model.keras')\n",
        "print(\"Model loaded.\")"
      ],
      "metadata": {
        "colab": {
          "base_uri": "https://localhost:8080/"
        },
        "id": "oe91Uz7IB1BH",
        "outputId": "0d88bf5c-0e0b-404f-d227-b54769bd19c1"
      },
      "execution_count": 17,
      "outputs": [
        {
          "output_type": "stream",
          "name": "stdout",
          "text": [
            "Model loaded.\n"
          ]
        }
      ]
    },
    {
      "cell_type": "markdown",
      "source": [
        "**Generating Music**"
      ],
      "metadata": {
        "id": "XBdi2shBLBaF"
      }
    },
    {
      "cell_type": "code",
      "source": [
        "def generate_music(model, seed_sequence, n_notes_to_generate):\n",
        "    generated_notes = []\n",
        "    current_sequence = seed_sequence\n",
        "\n",
        "    for _ in range(n_notes_to_generate):\n",
        "        # Predict the next note\n",
        "        prediction = model.predict(current_sequence, verbose=0)\n",
        "        next_note = np.argmax(prediction, axis=1)[-1]\n",
        "\n",
        "        # Append the predicted note to the genera22222222ted notes\n",
        "        generated_notes.append(next_note)\n",
        "\n",
        "        # Update the current sequence by appending the predicted note and removing the first note\n",
        "        current_sequence = np.append(current_sequence[:, 1:, :], np.reshape(next_note, (1, 1, -1)), axis=1)\n",
        "\n",
        "    return generated_notes\n",
        "\n",
        "# Seed sequence (example, use actual seed sequence from your dataset)\n",
        "seed_sequence = X[0:1]\n",
        "\n",
        "# Generate music\n",
        "n_notes_to_generate = 100  # Number of notes to generate\n",
        "generated_notes = generate_music(model, seed_sequence, n_notes_to_generate)"
      ],
      "metadata": {
        "id": "wBEsxj6mB-ct"
      },
      "execution_count": 18,
      "outputs": []
    },
    {
      "cell_type": "code",
      "source": [
        "def notes_to_midi(generated_notes, output_midi_file):\n",
        "    midi = MidiFile()\n",
        "    track = MidiTrack()\n",
        "    midi.tracks.append(track)\n",
        "\n",
        "    for note in generated_notes:\n",
        "        # Note on event\n",
        "        track.append(Message('note_on', note=int(note), velocity=64, time=0))\n",
        "        # Note off event after a fixed time\n",
        "        track.append(Message('note_off', note=int(note), velocity=64, time=480))\n",
        "\n",
        "    midi.save(output_midi_file)\n",
        "    print(f'Generated MIDI file saved as {output_midi_file}')\n",
        "\n",
        "# Specify the full path where you want to save the MIDI file\n",
        "output_midi_file = 'Generated.mid'\n",
        "\n",
        "# Convert to MIDI and save\n",
        "notes_to_midi(generated_notes, output_midi_file)"
      ],
      "metadata": {
        "colab": {
          "base_uri": "https://localhost:8080/"
        },
        "id": "GJQxlAyIB-UB",
        "outputId": "f3c814e8-d12b-4b6c-946a-c0a05fbfe6a6"
      },
      "execution_count": 22,
      "outputs": [
        {
          "output_type": "stream",
          "name": "stdout",
          "text": [
            "Generated MIDI file saved as Generated.mid\n"
          ]
        }
      ]
    }
  ]
}
